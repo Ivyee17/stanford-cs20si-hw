{
 "cells": [
  {
   "cell_type": "code",
   "execution_count": 39,
   "metadata": {
    "collapsed": true
   },
   "outputs": [
    {
     "name": "stdout",
     "output_type": "stream",
     "text": [
      "(tf.float64, tf.float64)\n",
      "(TensorShape([]), TensorShape([]))\n"
     ]
    }
   ],
   "source": [
    "import numpy as np\n",
    "import matplotlib.pyplot as plt\n",
    "import xlrd\n",
    "import tensorflow as tf\n",
    "tf=tf.compat.v1\n",
    "tf.disable_eager_execution()\n",
    "\n",
    "\n",
    "# Input data file\n",
    "DATA_FILE = \"./slr05.xls\"\n",
    "\n",
    "# Read in data (DO NOT REVISE)\n",
    "book = xlrd.open_workbook(DATA_FILE, encoding_override=\"utf-8\")\n",
    "sheet = book.sheet_by_index(0)\n",
    "data = np.asarray([sheet.row_values(i) for i in range(1, sheet.nrows)])\n",
    "n_samples = sheet.nrows - 1\n",
    "\n",
    "dataset = tf.data.Dataset.from_tensor_slices((data[:,0],data[:,1]))\n",
    "\n",
    "print(dataset.output_types)\n",
    "print(dataset.output_shapes)"
   ]
  },
  {
   "cell_type": "code",
   "execution_count": 42,
   "outputs": [
    {
     "name": "stdout",
     "output_type": "stream",
     "text": [
      "<dtype: 'float64'>\n"
     ]
    }
   ],
   "source": [
    "# X=tf.placeholder(tf.float32)\n",
    "# y=tf.placeholder(tf.float32)\n",
    "it=dataset.make_initializable_iterator()\n",
    "X, y = it.get_next()\n",
    "\n",
    "w=tf.Variable(0.0,dtype=tf.float64)\n",
    "b=tf.Variable(0.0,dtype=tf.float64)\n",
    "\n",
    "y_pred=tf.multiply(w,X)+b\n",
    "print(y_pred.dtype)\n",
    "\n",
    "loss=tf.square(y-y_pred)\n",
    "\n",
    "#delta=14.0\n",
    "#loss23=tf.cond(tf.abs(y-y_pred)<delta,lambda :0.5*tf.square(y-y_pred),lambda:delta*tf.abs(y-y_pred)-0.5*tf.square(delta))\n",
    "\n",
    "optimizer=tf.train.GradientDescentOptimizer(learning_rate=0.001).minimize(loss)\n"
   ],
   "metadata": {
    "collapsed": false,
    "pycharm": {
     "name": "#%%\n"
    }
   }
  },
  {
   "cell_type": "code",
   "execution_count": 43,
   "outputs": [
    {
     "data": {
      "text/plain": "<Figure size 432x288 with 1 Axes>",
      "image/png": "[encoded data removed]"
     },
     "metadata": {
      "needs_background": "light"
     },
     "output_type": "display_data"
    }
   ],
   "source": [
    "with tf.Session() as s:\n",
    "    s.run([w.initializer,b.initializer])\n",
    "\n",
    "    for i in range(100):\n",
    "        s.run(it.initializer)\n",
    "        try:\n",
    "            while True:\n",
    "                s.run([optimizer])\n",
    "        except tf.errors.OutOfRangeError:\n",
    "            pass\n",
    "        # for xx,yy in data:\n",
    "        #     s.run(optimizer,feed_dict={X:xx,y:yy})\n",
    "    w_out, b_out = s.run([w, b])\n",
    "plt.plot(data[:,0], data[:,1], 'bo', label='Real data')\n",
    "plt.plot(data[:,0], data[:,0] * w_out + b_out, 'r', label='Predicted data with squared error')\n",
    "plt.legend()\n",
    "plt.show()"
   ],
   "metadata": {
    "collapsed": false,
    "pycharm": {
     "name": "#%%\n"
    }
   }
  },
  {
   "cell_type": "code",
   "execution_count": 69,
   "outputs": [
    {
     "name": "stdout",
     "output_type": "stream",
     "text": [
      "(6.2, 29.0)\n",
      "(9.5, 44.0)\n",
      "(10.5, 36.0)\n",
      "(7.7, 37.0)\n",
      "(8.6, 53.0)\n",
      "(6.2, 29.0)\n",
      "(9.5, 44.0)\n",
      "(10.5, 36.0)\n",
      "(7.7, 37.0)\n",
      "(8.6, 53.0)\n"
     ]
    }
   ],
   "source": [
    "def print_data(d):\n",
    "    # ii = d.make_initializable_iterator()\n",
    "    with tf.Session() as sess:\n",
    "        sess.run(it.initializer)\n",
    "\n",
    "        for i in range(5):\n",
    "            print(sess.run(it.get_next()))\n",
    "# print_data(dataset)\n",
    "dataset = dataset.shuffle(5)\n",
    "print_data(dataset)\n",
    "dataset = dataset.repeat(3)\n",
    "print_data(dataset)\n",
    "# dataset = dataset.batch(128)\n",
    "# print_data()\n",
    "# dataset = dataset.map(lambda x: tf.one_hot(x, 10))\n",
    "# print_data()\n",
    "# convert each elem of dataset to one_hot vector\n",
    "\n"
   ],
   "metadata": {
    "collapsed": false,
    "pycharm": {
     "name": "#%%\n"
    }
   }
  }
 ],
 "metadata": {
  "kernelspec": {
   "display_name": "Python 3",
   "language": "python",
   "name": "python3"
  },
  "language_info": {
   "codemirror_mode": {
    "name": "ipython",
    "version": 2
   },
   "file_extension": ".py",
   "mimetype": "text/x-python",
   "name": "python",
   "nbconvert_exporter": "python",
   "pygments_lexer": "ipython2",
   "version": "2.7.6"
  }
 },
 "nbformat": 4,
 "nbformat_minor": 0
}