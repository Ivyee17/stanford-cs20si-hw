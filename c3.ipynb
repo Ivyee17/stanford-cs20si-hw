{
 "cells": [
  {
   "cell_type": "code",
   "execution_count": 3,
   "metadata": {
    "collapsed": true
   },
   "outputs": [
    {
     "data": {
      "text/plain": "<Figure size 432x288 with 1 Axes>",
      "image/png": "[encoded data removed]"
     },
     "metadata": {
      "needs_background": "light"
     },
     "output_type": "display_data"
    }
   ],
   "source": [
    "import numpy as np\n",
    "import matplotlib.pyplot as plt\n",
    "import xlrd\n",
    "import tensorflow as tf\n",
    "tf=tf.compat.v1\n",
    "tf.disable_eager_execution()\n",
    "\n",
    "# Input data file\n",
    "DATA_FILE = \"./slr05.xls\"\n",
    "\n",
    "# Read in data (DO NOT REVISE)\n",
    "book = xlrd.open_workbook(DATA_FILE, encoding_override=\"utf-8\")\n",
    "sheet = book.sheet_by_index(0)\n",
    "data = np.asarray([sheet.row_values(i) for i in range(1, sheet.nrows)])\n",
    "n_samples = sheet.nrows - 1\n",
    "\n",
    "X=tf.placeholder(tf.float32)\n",
    "y=tf.placeholder(tf.float32)\n",
    "\n",
    "w=tf.Variable(0.0)\n",
    "b=tf.Variable(0.0)\n",
    "\n",
    "y_pred=w*X+b\n",
    "\n",
    "loss=tf.square(y-y_pred)\n",
    "\n",
    "optimizer=tf.train.GradientDescentOptimizer(learning_rate=0.001).minimize(loss)\n",
    "\n",
    "with tf.Session() as s:\n",
    "    s.run([w.initializer,b.initializer])\n",
    "    for i in range(1000):\n",
    "        for xx,yy in data:\n",
    "            s.run(optimizer,feed_dict={X:xx,y:yy})\n",
    "    w_out, b_out = s.run([w, b])\n",
    "    tf.summary.FileWriter('./graph1',s.graph)\n",
    "plt.plot(data[:,0], data[:,1], 'bo', label='Real data')\n",
    "plt.plot(data[:,0], data[:,0] * w_out + b_out, 'r', label='Predicted data with squared error')\n",
    "# plt.plot(data[:,0], data[:,0] * (-5.883589) + 85.124306, 'g', label='Predicted data with Huber loss')\n",
    "plt.legend()\n",
    "plt.show()\n",
    "    #%%\n",
    "# Step 3: create variables: weights_1, weights_2, bias. All are initialized to 0\n",
    "w = tf.Variable(0.0, name=\"weights_1\")\n",
    "u = tf.Variable(0.0, name=\"weights_2\")\n",
    "b = tf.Variable(0.0, name=\"bias\")\n",
    "# Step 4: predict Y (number of theft) from the number of fire\n",
    "Y_predicted = X * X * w + X * u + b\n",
    "# Step 5: Profit!"
   ]
  }
 ],
 "metadata": {
  "kernelspec": {
   "display_name": "Python 3",
   "language": "python",
   "name": "python3"
  },
  "language_info": {
   "codemirror_mode": {
    "name": "ipython",
    "version": 2
   },
   "file_extension": ".py",
   "mimetype": "text/x-python",
   "name": "python",
   "nbconvert_exporter": "python",
   "pygments_lexer": "ipython2",
   "version": "2.7.6"
  }
 },
 "nbformat": 4,
 "nbformat_minor": 0
}