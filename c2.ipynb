{
 "cells": [
  {
   "cell_type": "code",
   "execution_count": 2,
   "metadata": {
    "collapsed": true
   },
   "outputs": [],
   "source": [
    "import tensorflow as tf\n",
    "\n",
    "tf=tf.compat.v1\n",
    "tf.disable_eager_execution()\n"
   ]
  },
  {
   "cell_type": "code",
   "execution_count": 35,
   "outputs": [
    {
     "name": "stdout",
     "output_type": "stream",
     "text": [
      "[[20 20]\n",
      " [30 30]]\n"
     ]
    }
   ],
   "source": [
    "a=tf.fill(tf.ones_like([2,3]).shape,10)\n",
    "b=tf.constant([[2],[3]])\n",
    "c=tf.multiply(a,b)\n",
    "with tf.Session() as s:\n",
    "    r=s.run(c)\n",
    "    tf.summary.FileWriter('./graphs1',c.graph)\n",
    "    print(r)"
   ],
   "metadata": {
    "collapsed": false,
    "pycharm": {
     "name": "#%%\n"
    }
   }
  },
  {
   "cell_type": "code",
   "execution_count": 36,
   "outputs": [
    {
     "name": "stdout",
     "output_type": "stream",
     "text": [
      "Tensor(\"LinSpace:0\", shape=(21,), dtype=float32)\n",
      "[10.  10.5 11.  11.5 12.  12.5 13.  13.5 14.  14.5 15.  15.5 16.  16.5\n",
      " 17.  17.5 18.  18.5 19.  19.5 20. ]\n"
     ]
    }
   ],
   "source": [
    "t1=tf.linspace(10.0,20.0,21)\n",
    "print(t1)\n",
    "with tf.Session() as s:\n",
    "    r=s.run(t1)\n",
    "    print(r)"
   ],
   "metadata": {
    "collapsed": false,
    "pycharm": {
     "name": "#%%\n"
    }
   }
  },
  {
   "cell_type": "code",
   "execution_count": 37,
   "outputs": [
    {
     "name": "stdout",
     "output_type": "stream",
     "text": [
      "Tensor(\"range:0\", shape=(11,), dtype=int32)\n",
      "[10 11 12 13 14 15 16 17 18 19 20]\n"
     ]
    }
   ],
   "source": [
    "t1=tf.range(10,21,1)\n",
    "print(t1)\n",
    "with tf.Session() as s:\n",
    "    r=s.run(t1)\n",
    "    print(r)"
   ],
   "metadata": {
    "collapsed": false,
    "pycharm": {
     "name": "#%%\n"
    }
   }
  },
  {
   "cell_type": "code",
   "execution_count": 38,
   "outputs": [
    {
     "name": "stdout",
     "output_type": "stream",
     "text": [
      "None\n",
      "[2]\n"
     ]
    }
   ],
   "source": [
    "# Three methods to init variables.\n",
    "\n",
    "v1=tf.Variable([2])\n",
    "v2=tf.Variable([3])\n",
    "\n",
    "# init=tf.global_variables_initializer()\n",
    "init=tf.variables_initializer([v1,v2],name=\"ini\")\n",
    "v=tf.mod(v1,v2)\n",
    "with tf.Session() as s:\n",
    "    re,p=s.run([init,v])\n",
    "    # re,re2,p=s.run([v1.initializer,v2.initializer,v])\n",
    "    print(re)\n",
    "    print(p)\n",
    "    tf.summary.FileWriter('./graphs1',s.graph)"
   ],
   "metadata": {
    "collapsed": false,
    "pycharm": {
     "name": "#%%\n"
    }
   }
  },
  {
   "cell_type": "code",
   "execution_count": 4,
   "outputs": [
    {
     "name": "stdout",
     "output_type": "stream",
     "text": [
      "WARNING:tensorflow:From c:\\program files\\python37\\lib\\site-packages\\tensorflow\\python\\ops\\resource_variable_ops.py:1666: calling BaseResourceVariable.__init__ (from tensorflow.python.ops.resource_variable_ops) with constraint is deprecated and will be removed in a future version.\n",
      "Instructions for updating:\n",
      "If using Keras pass *_constraint arguments to layers.\n",
      "<tf.Variable 'Variable:0' shape=() dtype=int32>\n",
      "<tf.Variable 'Variable:0' shape=() dtype=int32>\n",
      "20\n",
      "<tf.Variable 'Variable:0' shape=() dtype=int32>\n",
      "30\n",
      "38\n",
      "38\n"
     ]
    }
   ],
   "source": [
    "a=tf.Variable(20)\n",
    "aa=a.assign(30)\n",
    "with tf.Session() as s:\n",
    "    print(a)\n",
    "    s.run(a.initializer)\n",
    "    ab=a.eval()\n",
    "    print(a)\n",
    "    print(ab)\n",
    "    ac=s.run(aa)\n",
    "    print(a)\n",
    "    print(ac)\n",
    "    aaa=a.assign_add(8)\n",
    "    ad=s.run(aaa)\n",
    "    print(a.eval())\n",
    "    print(ad)\n",
    "    tf.summary.FileWriter('./graph1',aaa.graph)"
   ],
   "metadata": {
    "collapsed": false,
    "pycharm": {
     "name": "#%%\n"
    }
   }
  },
  {
   "cell_type": "code",
   "execution_count": 3,
   "outputs": [
    {
     "name": "stdout",
     "output_type": "stream",
     "text": [
      "[[40]\n",
      " [60]]\n"
     ]
    }
   ],
   "source": [
    "# Without init function (must explicitly specify close())\n",
    "a=tf.constant([[20],[30]])\n",
    "c=tf.add(a,a)\n",
    "s=tf.InteractiveSession()\n",
    "# print(a.eval())\n",
    "print(c.eval())\n",
    "s.close()"
   ],
   "metadata": {
    "collapsed": false,
    "pycharm": {
     "name": "#%%\n"
    }
   }
  },
  {
   "cell_type": "code",
   "execution_count": 20,
   "outputs": [
    {
     "name": "stdout",
     "output_type": "stream",
     "text": [
      "[4.-8.j 4.-8.j]\n"
     ]
    }
   ],
   "source": [
    "a=tf.placeholder(tf.complex64,[2])\n",
    "b=tf.constant([-2.0 + 4j,-2.0 + 4j],tf.complex64)\n",
    "c=tf.multiply(a,b)\n",
    "with tf.Session() as s:\n",
    "    r=s.run(c,{a: [-2,-2]})\n",
    "    print(r)"
   ],
   "metadata": {
    "collapsed": false,
    "pycharm": {
     "name": "#%%\n"
    }
   }
  }
 ],
 "metadata": {
  "kernelspec": {
   "display_name": "Python 3",
   "language": "python",
   "name": "python3"
  },
  "language_info": {
   "codemirror_mode": {
    "name": "ipython",
    "version": 2
   },
   "file_extension": ".py",
   "mimetype": "text/x-python",
   "name": "python",
   "nbconvert_exporter": "python",
   "pygments_lexer": "ipython2",
   "version": "2.7.6"
  }
 },
 "nbformat": 4,
 "nbformat_minor": 0
}